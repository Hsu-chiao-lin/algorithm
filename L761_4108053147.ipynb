{
 "cells": [
  {
   "cell_type": "code",
   "execution_count": 1,
   "id": "dd52bdaf",
   "metadata": {},
   "outputs": [],
   "source": [
    "import numpy as np\n",
    "import matplotlib.pyplot as plt"
   ]
  },
  {
   "cell_type": "markdown",
   "id": "fe1abac6",
   "metadata": {},
   "source": [
    "## Classification"
   ]
  },
  {
   "cell_type": "markdown",
   "id": "18475764",
   "metadata": {},
   "source": [
    "### Data"
   ]
  },
  {
   "cell_type": "code",
   "execution_count": 2,
   "id": "a1840aca",
   "metadata": {},
   "outputs": [],
   "source": [
    "from sklearn import datasets\n",
    "x,y=datasets.load_iris(return_X_y=True)"
   ]
  },
  {
   "cell_type": "markdown",
   "id": "dd465671",
   "metadata": {},
   "source": [
    "## Split Data"
   ]
  },
  {
   "cell_type": "code",
   "execution_count": 3,
   "id": "eb0581e8",
   "metadata": {},
   "outputs": [],
   "source": [
    "from sklearn.model_selection import train_test_split\n",
    "x_train,x_test,y_train,y_test = train_test_split(x,y,stratify=y,random_state=1)"
   ]
  },
  {
   "cell_type": "markdown",
   "id": "6ee41aef",
   "metadata": {},
   "source": [
    "## StackingClassifier()"
   ]
  },
  {
   "cell_type": "code",
   "execution_count": 4,
   "id": "ccb35889",
   "metadata": {},
   "outputs": [],
   "source": [
    "from sklearn.pipeline import Pipeline\n",
    "from sklearn.ensemble import RandomForestClassifier\n",
    "from sklearn.preprocessing import StandardScaler\n",
    "from sklearn.svm import LinearSVC\n",
    "\n",
    "svc_pip = Pipeline([\n",
    "    ('scaler',StandardScaler()),\n",
    "    ('svc',LinearSVC(random_state=1))\n",
    "])\n",
    "estimators = [\n",
    "    ('rf',RandomForestClassifier(n_estimators=10,random_state=1)),\n",
    "    ('svc_pip',svc_pip)\n",
    "]"
   ]
  },
  {
   "cell_type": "code",
   "execution_count": 5,
   "id": "a97aeffe",
   "metadata": {},
   "outputs": [],
   "source": [
    "from sklearn.ensemble import StackingClassifier\n",
    "from sklearn.linear_model import LogisticRegression\n",
    "\n",
    "clf = StackingClassifier(\n",
    "estimators=estimators,final_estimator=LogisticRegression()\n",
    ")"
   ]
  },
  {
   "cell_type": "code",
   "execution_count": 6,
   "id": "137e7c51",
   "metadata": {},
   "outputs": [
    {
     "data": {
      "text/plain": [
       "0.9736842105263158"
      ]
     },
     "execution_count": 6,
     "metadata": {},
     "output_type": "execute_result"
    }
   ],
   "source": [
    "clf.fit(x_train,y_train).score(x_test,y_test)"
   ]
  },
  {
   "cell_type": "markdown",
   "id": "abf1cbfe",
   "metadata": {},
   "source": [
    "## Regression"
   ]
  },
  {
   "cell_type": "markdown",
   "id": "878f6520",
   "metadata": {},
   "source": [
    "### Data"
   ]
  },
  {
   "cell_type": "code",
   "execution_count": 7,
   "id": "f19674c2",
   "metadata": {},
   "outputs": [],
   "source": [
    "from sklearn.datasets import load_diabetes\n",
    "x,y = load_diabetes(return_X_y=True)"
   ]
  },
  {
   "cell_type": "markdown",
   "id": "d77d1511",
   "metadata": {},
   "source": [
    "## Split Data"
   ]
  },
  {
   "cell_type": "code",
   "execution_count": 8,
   "id": "2000b17e",
   "metadata": {},
   "outputs": [],
   "source": [
    "from sklearn.model_selection import train_test_split\n",
    "x_train,x_test,y_train,y_test = train_test_split(x,y,random_state=1)"
   ]
  },
  {
   "cell_type": "markdown",
   "id": "479377d2",
   "metadata": {},
   "source": [
    "## StackingRegressor()"
   ]
  },
  {
   "cell_type": "code",
   "execution_count": 9,
   "id": "d71a24c6",
   "metadata": {},
   "outputs": [],
   "source": [
    "from sklearn.pipeline import Pipeline\n",
    "from sklearn.linear_model import Ridge\n",
    "from sklearn.preprocessing import StandardScaler\n",
    "from sklearn.svm import LinearSVR\n",
    "\n",
    "lr_pip = Pipeline([\n",
    "    ('scaler',StandardScaler()),\n",
    "    ('ridge',Ridge(random_state=1))\n",
    "])\n",
    "svr_pip = Pipeline([\n",
    "    ('scaler',StandardScaler()),\n",
    "    ('svr',LinearSVR(random_state=1))\n",
    "])\n",
    "estimators = [\n",
    "    ('lr',lr_pip),\n",
    "    ('svr_pip',svr_pip)\n",
    "]"
   ]
  },
  {
   "cell_type": "code",
   "execution_count": 10,
   "id": "6c391131",
   "metadata": {},
   "outputs": [],
   "source": [
    "from sklearn.ensemble import StackingRegressor\n",
    "from sklearn.ensemble import RandomForestRegressor\n",
    "\n",
    "reg = StackingRegressor(\n",
    "estimators=estimators,final_estimator=RandomForestRegressor(n_estimators=10,random_state=1)\n",
    ")"
   ]
  },
  {
   "cell_type": "code",
   "execution_count": 11,
   "id": "fdb30f4d",
   "metadata": {},
   "outputs": [
    {
     "data": {
      "text/plain": [
       "0.2631543333993679"
      ]
     },
     "execution_count": 11,
     "metadata": {},
     "output_type": "execute_result"
    }
   ],
   "source": [
    "reg.fit(x_train,y_train).score(x_test,y_test)"
   ]
  }
 ],
 "metadata": {
  "kernelspec": {
   "display_name": "Python 3",
   "language": "python",
   "name": "python3"
  },
  "language_info": {
   "codemirror_mode": {
    "name": "ipython",
    "version": 3
   },
   "file_extension": ".py",
   "mimetype": "text/x-python",
   "name": "python",
   "nbconvert_exporter": "python",
   "pygments_lexer": "ipython3",
   "version": "3.8.8"
  }
 },
 "nbformat": 4,
 "nbformat_minor": 5
}
